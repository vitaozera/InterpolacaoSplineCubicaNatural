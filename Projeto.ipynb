{
 "cells": [
  {
   "cell_type": "markdown",
   "metadata": {},
   "source": [
    "# Arquivo de entrada\n",
    "\n",
    "Como discutido no enunciado do projeto o arquivo de entrada tem um formato simples. Ele se chama tabela.txt e será composto de:\n",
    "\n",
    "1. Uma linha inicial com o número de pontos, que vou chamar de n.\n",
    "2. n+1 linhas contendo pares x_i f(x_i) para i = 0, ..., n + 1.\n",
    "\n",
    "Abaixo você encontro um programa simples em Julia que gera exemplos do arquivo de entrada. Para modificar o exemplo você pode modificar a função que é amostrada (função f), o número de pontos (n), o ponto inicial (x_0) e o ponto final (x_n). Depois é só rodar o programa digitanto shift+enter. O arquivo tabela.txt é então gerado no diretório onde está esse notebook."
   ]
  },
  {
   "cell_type": "code",
   "execution_count": 8,
   "metadata": {
    "collapsed": false
   },
   "outputs": [],
   "source": [
    "# Modifique as linhas abaixo para modificar o exemplo gerado. É interessante \n",
    "# você gerar muitos exemplos de teste para o seu código e não testar apenas\n",
    "# no exemplo definido abaixo.\n",
    "f(x) = log(x)\n",
    "x_0 = 1\n",
    "x_n = 500\n",
    "n = 200\n",
    "\n",
    "# Não modifique a partir daqui a não ser que você saiba o que está fazendo.\n",
    "\n",
    "# Calcula os pontos inermediários e a função nos pontos.\n",
    "x = linspace(x_0, x_n, n + 1)\n",
    "fx = f(x)\n",
    "\n",
    "# Gera arquivo de saida\n",
    "saida = open(\"tabela.txt\", \"w\")\n",
    "@printf saida \"%i\\n\" (n + 1)\n",
    "\n",
    "for i = 1:length(x)\n",
    "    @printf saida \"%.16e %.16e\\n\"  x[i] fx[i]\n",
    "end\n",
    "close(saida)"
   ]
  },
  {
   "cell_type": "markdown",
   "metadata": {},
   "source": [
    "# Desenhando a spline\n",
    "Já o programa abaixo desenha a spline calculada por seu programa. Para isso é necessário que os parâmetros f, x_0 e x_n abaixo sejam os mesmos que o seu programa usou (que leu do arquivo de entrada)."
   ]
  },
  {
   "cell_type": "code",
   "execution_count": 10,
   "metadata": {
    "collapsed": false,
    "scrolled": true
   },
   "outputs": [
    {
     "data": {
      "image/png": "[encoded data removed]",
      "text/plain": [
       "PyPlot.Figure(PyObject <matplotlib.figure.Figure object at 0x7f5bac074710>)"
      ]
     },
     "metadata": {},
     "output_type": "display_data"
    },
    {
     "data": {
      "text/plain": [
       "PyObject <matplotlib.legend.Legend object at 0x7f5ba5b78810>"
      ]
     },
     "execution_count": 10,
     "metadata": {},
     "output_type": "execute_result"
    }
   ],
   "source": [
    "using PyPlot\n",
    "\n",
    "#TIVE QUE ADICIONAR PRO GRAFICO PODER APARECER (VITOR)\n",
    "PyPlot.ion()\n",
    "\n",
    "# Ajuste os parâmetros abaixo para os usados no seu programa\n",
    "f(x) = log(x)\n",
    "x_0 = 1\n",
    "x_1 = 500\n",
    "\n",
    "# Le o arquivo com os parâmetros da spline\n",
    "dados_spline = open(\"splines.txt\")\n",
    "\n",
    "z = [0.0]\n",
    "for line in eachline(dados_spline)\n",
    "    campos = split(line)\n",
    "    push!(z, float(campos[2]))\n",
    "end\n",
    "\n",
    "# Apresenta o grafico\n",
    "n = length(z)\n",
    "x = linspace(x_0, x_1, n)\n",
    "h = x[2] - x[1]\n",
    "\n",
    "function spline(x, z1, z2, x1, x2)\n",
    "    s = (1/h)*z1*(x2 - x).^3/6 + (1/h)*z2*(x - x1).^3/6 \n",
    "    s += (1/h)*(f(x2) - f(x1) + h^2/6*(z1 - z2))*(x - x1)\n",
    "    s += f(x1) - h^2/6*z1\n",
    "    return s\n",
    "end\n",
    "\n",
    "for i = 1:n - 2\n",
    "    intervalo = linspace(x[i], x[i + 1], 100)\n",
    "    plot(intervalo, spline(intervalo, z[i], z[i+1], x[i], x[i+1]), color=\"b\")\n",
    "    plot(intervalo, f(intervalo), color = \"r\")\n",
    "end\n",
    "i = n - 1\n",
    "intervalo = linspace(x[i], x[i + 1], 100)\n",
    "plot(intervalo, spline(intervalo, z[i], z[i+1], x[i], x[i+1]), color=\"b\", label=\"spline\")\n",
    "plot(intervalo, f(intervalo), color = \"r\", label=\"f\")\n",
    "legend(loc=4)\n"
   ]
  },
  {
   "cell_type": "code",
   "execution_count": null,
   "metadata": {
    "collapsed": false
   },
   "outputs": [],
   "source": []
  },
  {
   "cell_type": "code",
   "execution_count": null,
   "metadata": {
    "collapsed": true
   },
   "outputs": [],
   "source": []
  },
  {
   "cell_type": "code",
   "execution_count": 2,
   "metadata": {
    "collapsed": true
   },
   "outputs": [],
   "source": []
  },
  {
   "cell_type": "code",
   "execution_count": null,
   "metadata": {
    "collapsed": true
   },
   "outputs": [],
   "source": []
  }
 ],
 "metadata": {
  "kernelspec": {
   "display_name": "Julia 0.4.0",
   "language": "julia",
   "name": "julia-0.4"
  },
  "language_info": {
   "file_extension": ".jl",
   "mimetype": "application/julia",
   "name": "julia",
   "version": "0.4.0"
  }
 },
 "nbformat": 4,
 "nbformat_minor": 0
}
